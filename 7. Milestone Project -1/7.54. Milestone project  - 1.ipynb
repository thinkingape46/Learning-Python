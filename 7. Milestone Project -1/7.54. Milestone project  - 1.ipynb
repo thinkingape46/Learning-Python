{
 "cells": [
  {
   "cell_type": "markdown",
   "metadata": {},
   "source": [
    "# Tic Tac Toe game"
   ]
  },
  {
   "cell_type": "code",
   "execution_count": 6,
   "metadata": {},
   "outputs": [],
   "source": [
    "from IPython.display import clear_output\n",
    "def print_board(board):\n",
    "    print(board[7]+'|'+board[8]+'|'+board[9])\n",
    "    print(board[4]+'|'+board[5]+'|'+board[6])\n",
    "    print(board[1]+'|'+board[2]+'|'+board[3])"
   ]
  },
  {
   "cell_type": "code",
   "execution_count": 165,
   "metadata": {},
   "outputs": [],
   "source": [
    "test_board = ['#','X','O','X','O','X','O','X','O','X']"
   ]
  },
  {
   "cell_type": "code",
   "execution_count": 9,
   "metadata": {},
   "outputs": [
    {
     "name": "stdout",
     "output_type": "stream",
     "text": [
      "X|O|X\n",
      "O|X|O\n",
      "X|O|X\n"
     ]
    }
   ],
   "source": [
    "print_board(test_board)"
   ]
  },
  {
   "cell_type": "code",
   "execution_count": 3,
   "metadata": {},
   "outputs": [],
   "source": [
    "empty_board = ['#',' ',' ',' ',' ',' ',' ',' ',' ',' ']"
   ]
  },
  {
   "cell_type": "code",
   "execution_count": 101,
   "metadata": {},
   "outputs": [
    {
     "name": "stdout",
     "output_type": "stream",
     "text": [
      " | | \n",
      " | | \n",
      " | | \n"
     ]
    }
   ],
   "source": [
    "print_board(empty_board)"
   ]
  },
  {
   "cell_type": "code",
   "execution_count": 102,
   "metadata": {},
   "outputs": [
    {
     "name": "stdout",
     "output_type": "stream",
     "text": [
      "Do you wish to play the game?:y\n"
     ]
    }
   ],
   "source": [
    "game = input('Do you wish to play the game?:')"
   ]
  },
  {
   "cell_type": "code",
   "execution_count": 107,
   "metadata": {},
   "outputs": [
    {
     "name": "stdout",
     "output_type": "stream",
     "text": [
      "Do you wish to play the game?:Yes\n"
     ]
    }
   ],
   "source": [
    "def start_game(answer1 = input('Do you wish to play the game?:')):\n",
    "    if answer1 == 'Yes':\n",
    "        print_board(empty_board)\n",
    "    elif answer1 == 'No':\n",
    "        print('OK')\n",
    "    else:\n",
    "        print(\"Please enter 'Yes' or 'No'\")"
   ]
  },
  {
   "cell_type": "code",
   "execution_count": 104,
   "metadata": {},
   "outputs": [
    {
     "name": "stdout",
     "output_type": "stream",
     "text": [
      " | | \n",
      " | | \n",
      " | | \n"
     ]
    }
   ],
   "source": [
    "start_game()"
   ]
  },
  {
   "cell_type": "code",
   "execution_count": 133,
   "metadata": {},
   "outputs": [
    {
     "name": "stdout",
     "output_type": "stream",
     "text": [
      "Player 1, it's your turn. Enter your number:3\n"
     ]
    }
   ],
   "source": [
    "def enter_value(x = int(input(\"Player 1, it's your turn. Enter your number:\"))):\n",
    "    if x in [1,2,3,4,5,6,7,8,9]:\n",
    "        empty_board[x] = 'O'\n",
    "        print_board(empty_board)\n",
    "    else:\n",
    "        print(\"Enter a number between 1 and 9\")"
   ]
  },
  {
   "cell_type": "code",
   "execution_count": 134,
   "metadata": {},
   "outputs": [
    {
     "name": "stdout",
     "output_type": "stream",
     "text": [
      " | | \n",
      " | | \n",
      "O|O|O\n"
     ]
    }
   ],
   "source": [
    "enter_value()"
   ]
  },
  {
   "cell_type": "code",
   "execution_count": 33,
   "metadata": {},
   "outputs": [
    {
     "name": "stdout",
     "output_type": "stream",
     "text": [
      "Player 2, it's your turn. Enter your number:3\n"
     ]
    }
   ],
   "source": [
    "def enter_value(x = int(input(\"Player 2, it's your turn. Enter your number:\"))):\n",
    "    if ' ' in empty_board:\n",
    "        if x in [1,2,3,4,5,6,7,8,9]:\n",
    "            empty_board[x] = 'X'\n",
    "            print_board(empty_board)\n",
    "        else:\n",
    "            print(\"Enter a number between 1 and 9\")\n",
    "    elif empty_board[7] == empty_board[8] == empty_board[9] or empty_board[1] == empty_board[2] == empty_board[3] or empty_board[4] == empty_board[5] == empty_board[6] or empty_board[7] == empty_board[4] == empty_board[1] or empty_board[8] == empty_board[5] == empty_board[2] or empty_board[9] == empty_board[6] == empty_board[3] or empty_board[7] == empty_board[5] == empty_board[3] or empty_board[9] == empty_board[5] == empty_board[1]:\n",
    "        print('Board is filled')\n",
    "        print_board(empty_board)\n",
    "        print(\"some player has won\")   "
   ]
  },
  {
   "cell_type": "code",
   "execution_count": 34,
   "metadata": {},
   "outputs": [
    {
     "name": "stdout",
     "output_type": "stream",
     "text": [
      "Board is filled\n",
      "X|X|X\n",
      "X|X|X\n",
      "X|X|X\n",
      "some player has won\n"
     ]
    }
   ],
   "source": [
    "enter_value()"
   ]
  },
  {
   "cell_type": "code",
   "execution_count": 152,
   "metadata": {},
   "outputs": [],
   "source": [
    "cond1 = "
   ]
  },
  {
   "cell_type": "code",
   "execution_count": 155,
   "metadata": {},
   "outputs": [
    {
     "data": {
      "text/plain": [
       "True"
      ]
     },
     "execution_count": 155,
     "metadata": {},
     "output_type": "execute_result"
    }
   ],
   "source": [
    "empty_board[7] == empty_board[8] == empty_board[9] or empty_board[1] == empty_board[2] == empty_board[3] or empty_board[4] == empty_board[5] == empty_board[6] or empty_board[7] == empty_board[4] == empty_board[1] or empty_board[8] == empty_board[5] == empty_board[2] or empty_board[9] == empty_board[6] == empty_board[3] or empty_board[7] == empty_board[5] == empty_board[3] or empty_board[9] == empty_board[5] == empty_board[1]"
   ]
  },
  {
   "cell_type": "code",
   "execution_count": 166,
   "metadata": {},
   "outputs": [
    {
     "data": {
      "text/plain": [
       "False"
      ]
     },
     "execution_count": 166,
     "metadata": {},
     "output_type": "execute_result"
    }
   ],
   "source": [
    "' ' in test_board"
   ]
  },
  {
   "cell_type": "code",
   "execution_count": 161,
   "metadata": {},
   "outputs": [
    {
     "data": {
      "text/plain": [
       "['#', 'X', 'O', 'X', 'O', 'X', 'O', 'X', 'O', 'O']"
      ]
     },
     "execution_count": 161,
     "metadata": {},
     "output_type": "execute_result"
    }
   ],
   "source": [
    "test_board"
   ]
  },
  {
   "cell_type": "code",
   "execution_count": 1,
   "metadata": {},
   "outputs": [],
   "source": [
    "symbol_choice = ['','']\n",
    "board = ['#',' ',' ',' ',' ',' ',' ',' ',' ',' ']\n",
    "from IPython.display import clear_output\n",
    "def print_board(board):\n",
    "    print(board[7]+'|'+board[8]+'|'+board[9])\n",
    "    print(board[4]+'|'+board[5]+'|'+board[6])\n",
    "    print(board[1]+'|'+board[2]+'|'+board[3])\n",
    "def tic_tac():\n",
    "    start = input(\"Do you wish to play the game (Yes or No)?\")\n",
    "# Player chooses to \n",
    "    if start not in ['Yes','No']:\n",
    "        tic_tac()\n",
    "    elif start == 'No':\n",
    "        print('See you later!')\n",
    "    elif start == 'Yes':\n",
    "      start_code()\n",
    "def tic_tac_next():\n",
    "    start = input(\"Do you wish to play the game again (Yes or No)?\")\n",
    "# Player chooses to \n",
    "    if start not in ['Yes','No']:\n",
    "        tic_tac()\n",
    "    elif start == 'No':\n",
    "        print('See you later!')\n",
    "    elif start == 'Yes':\n",
    "      start_code()\n",
    "def start_code():\n",
    "    symbols = ['','']\n",
    "    player1_symbol = input(\"Player1, Enter your symbol\")\n",
    "    if player1_symbol not in ['X','O']:\n",
    "        print(\"Plese enter the symbol 'X' or 'O'\")\n",
    "        start_code()\n",
    "    elif player1_symbol == 'X':\n",
    "        player2_symbol = 'O'\n",
    "        symbol_choice[0] = player1_symbol\n",
    "        symbol_choice[1] = player2_symbol\n",
    "        print(f\"Player1 is assigned {player1_symbol} and Player2 is assigned {player2_symbol}\")\n",
    "        play_game()\n",
    "    elif player1_symbol == 'O':\n",
    "        player2_symbol = 'X'\n",
    "        symbol_choice[0] = player1_symbol\n",
    "        symbol_choice[1] = player2_symbol\n",
    "        print(f\"Player1 is assigned {player1_symbol} and Player2 is assigned {player2_symbol}\")\n",
    "        play_game()\n",
    "def play_game():\n",
    "    from IPython.display import clear_output\n",
    "    player1_choice = input(\"Player1, please enter your choice of number:\")\n",
    "    if (player1_choice) not in ['1','2','3','4','5','6','7','8','9']:\n",
    "        print(\"Only numbers between 1 and 9 are allowed\")\n",
    "        play_game()\n",
    "    else:\n",
    "        player1_num = int(player1_choice)\n",
    "        if board[player1_num] != ' ':\n",
    "            print('The cell is already filled')\n",
    "            clear_output()\n",
    "            print_board(board)\n",
    "            play_game()\n",
    "        else:\n",
    "            board[player1_num] = (symbol_choice[0])\n",
    "            clear_output()\n",
    "            print_board(board)\n",
    "            if ' ' not in board:\n",
    "                print(\"This game is a tie, well done!\")\n",
    "                for n in range(1,10):\n",
    "                    board[n] = ' '\n",
    "                tic_tac_next()\n",
    "            elif board[7] == board[8] == board[9] != ' ' or board[1] == board[2] == board[3] != ' '  or board[4] == board[5] == board[6] != ' '  or board[7] == board[4] == board[1] != ' '  or board[8] == board[5] == board[2] != ' '  or board[9] == board[6] == board[3] != ' '  or board[7] == board[5] == board[3] != ' '  or board[9] == board[5] == board[1] != ' ' :\n",
    "                print(\"Player 1 has won, well done!\\nPlayer 2, good luck next time.\")\n",
    "                for n in range(1,10):\n",
    "                    board[n] = ' '\n",
    "                tic_tac_next()\n",
    "            else:\n",
    "                play_game2()\n",
    "def play_game2():\n",
    "    from IPython.display import clear_output\n",
    "    player2_choice = input(\"Player2, please enter your choice of number\")\n",
    "    if (player2_choice) not in ['1','2','3','4','5','6','7','8','9']:\n",
    "        print(\"Only numbers between 1 and 9 are allowed\")\n",
    "        play_game2()\n",
    "    else:\n",
    "        player2_num = int(player2_choice)\n",
    "        if board[player2_num] != ' ':\n",
    "            print('The cell is already filled')\n",
    "            clear_output()\n",
    "            print_board(board)\n",
    "            play_game2()\n",
    "        else:\n",
    "            board[player2_num] = (symbol_choice[1])\n",
    "            clear_output()\n",
    "            print_board(board)\n",
    "            if ' ' not in board:\n",
    "                print(\"This game is a tie, well done!\")\n",
    "                for n in range(1,10):\n",
    "                    board[n] = ' '\n",
    "                tic_tac_next()\n",
    "            if board[7] == board[8] == board[9] != ' ' or board[1] == board[2] == board[3] != ' '  or board[4] == board[5] == board[6] != ' '  or board[7] == board[4] == board[1] != ' '  or board[8] == board[5] == board[2] != ' '  or board[9] == board[6] == board[3] != ' '  or board[7] == board[5] == board[3] != ' '  or board[9] == board[5] == board[1] != ' ' :\n",
    "                print(\"Player 2 has won, well done!\\nPlayer 1, good luck next time.\")\n",
    "                for n in range(1,10):\n",
    "                    board[n] = ' '\n",
    "                tic_tac_next()\n",
    "            else:\n",
    "                play_game()"
   ]
  },
  {
   "cell_type": "code",
   "execution_count": 2,
   "metadata": {},
   "outputs": [
    {
     "name": "stdout",
     "output_type": "stream",
     "text": [
      "O| | \n",
      "X|O|X\n",
      "X| |O\n",
      "Player 2 has won, well done!\n",
      "Player 1, good luck next time.\n",
      "Do you wish to play the game again (Yes or No)?No\n",
      "See you later!\n"
     ]
    }
   ],
   "source": [
    "tic_tac()"
   ]
  },
  {
   "cell_type": "code",
   "execution_count": null,
   "metadata": {},
   "outputs": [],
   "source": []
  },
  {
   "cell_type": "code",
   "execution_count": null,
   "metadata": {},
   "outputs": [],
   "source": []
  },
  {
   "cell_type": "code",
   "execution_count": null,
   "metadata": {},
   "outputs": [],
   "source": []
  },
  {
   "cell_type": "code",
   "execution_count": 3,
   "metadata": {},
   "outputs": [],
   "source": [
    "from IPython.display import clear_output"
   ]
  },
  {
   "cell_type": "code",
   "execution_count": null,
   "metadata": {},
   "outputs": [],
   "source": []
  },
  {
   "cell_type": "markdown",
   "metadata": {},
   "source": [
    "# Game completion test"
   ]
  },
  {
   "cell_type": "code",
   "execution_count": null,
   "metadata": {},
   "outputs": [],
   "source": []
  }
 ],
 "metadata": {
  "kernelspec": {
   "display_name": "Python 3",
   "language": "python",
   "name": "python3"
  },
  "language_info": {
   "codemirror_mode": {
    "name": "ipython",
    "version": 3
   },
   "file_extension": ".py",
   "mimetype": "text/x-python",
   "name": "python",
   "nbconvert_exporter": "python",
   "pygments_lexer": "ipython3",
   "version": "3.7.1"
  }
 },
 "nbformat": 4,
 "nbformat_minor": 2
}
