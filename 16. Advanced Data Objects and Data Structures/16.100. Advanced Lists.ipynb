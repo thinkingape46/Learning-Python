{
 "cells": [
  {
   "cell_type": "markdown",
   "metadata": {},
   "source": [
    "### Advanced Lists"
   ]
  },
  {
   "cell_type": "code",
   "execution_count": 2,
   "metadata": {},
   "outputs": [],
   "source": [
    "l = [1,2,3]"
   ]
  },
  {
   "cell_type": "markdown",
   "metadata": {},
   "source": [
    "######    "
   ]
  },
  {
   "cell_type": "code",
   "execution_count": 9,
   "metadata": {},
   "outputs": [
    {
     "name": "stdout",
     "output_type": "stream",
     "text": [
      "[1, 2, 3, 4]\n"
     ]
    }
   ],
   "source": [
    "l = [1,2,3]\n",
    "l.append(4)\n",
    "print(l)"
   ]
  },
  {
   "cell_type": "code",
   "execution_count": 11,
   "metadata": {},
   "outputs": [
    {
     "name": "stdout",
     "output_type": "stream",
     "text": [
      "[1, 2, 3, [4, 5]]\n"
     ]
    }
   ],
   "source": [
    "l = [1,2,3]\n",
    "l.append([4,5])\n",
    "print(l)"
   ]
  },
  {
   "cell_type": "markdown",
   "metadata": {},
   "source": [
    "######    "
   ]
  },
  {
   "cell_type": "code",
   "execution_count": 12,
   "metadata": {},
   "outputs": [
    {
     "data": {
      "text/plain": [
       "2"
      ]
     },
     "execution_count": 12,
     "metadata": {},
     "output_type": "execute_result"
    }
   ],
   "source": [
    "l = [1,2,'a',3,3,'a']\n",
    "l.count('a')"
   ]
  },
  {
   "cell_type": "markdown",
   "metadata": {},
   "source": [
    "######    "
   ]
  },
  {
   "cell_type": "code",
   "execution_count": 52,
   "metadata": {},
   "outputs": [
    {
     "name": "stdout",
     "output_type": "stream",
     "text": [
      "extended list:\t[1, 2, 3, 4, 5]\n",
      "apended list:\t[1, 2, 3, [4, 5]]\n"
     ]
    }
   ],
   "source": [
    "m = [1,2,3]\n",
    "n = [1,2,3]\n",
    "m.extend([4,5])\n",
    "n.append([4,5])\n",
    "\n",
    "# have a look at the difference the append and extend methods\n",
    "\n",
    "print(f\"extended list:\\t{m}\")\n",
    "print(f\"apended list:\\t{n}\")\n",
    "\n",
    "# Permanent changes are made to the lists m and n."
   ]
  },
  {
   "cell_type": "markdown",
   "metadata": {},
   "source": [
    "######    "
   ]
  },
  {
   "cell_type": "code",
   "execution_count": 56,
   "metadata": {},
   "outputs": [
    {
     "name": "stdout",
     "output_type": "stream",
     "text": [
      "3\n",
      "2\n"
     ]
    }
   ],
   "source": [
    "m = [1,2,3,'hello']\n",
    "n = [1,3,'I am created in n']\n",
    "x = m.index('hello')\n",
    "y = n.index('I am created in n')\n",
    "print(x)\n",
    "print(y)\n",
    "\n",
    "# index method gives the index location (integer) of an item\n",
    "# if the item is not in the list, it throws an error."
   ]
  },
  {
   "cell_type": "markdown",
   "metadata": {},
   "source": [
    "######    "
   ]
  },
  {
   "cell_type": "code",
   "execution_count": 63,
   "metadata": {},
   "outputs": [
    {
     "name": "stdout",
     "output_type": "stream",
     "text": [
      "['I am the first', 1, 2, 3]\n",
      "[4, 5, 6, 'I am the last']\n"
     ]
    }
   ],
   "source": [
    "# insert method takes in two arguments.\n",
    "# it's used to insert an item in the list at a certain index location.\n",
    "\n",
    "l = [1,2,3]\n",
    "m = [4,5,6]\n",
    "\n",
    "l.insert(0, 'I am the first')\n",
    "m.insert(3, 'I am the last')\n",
    "\n",
    "# list are permanently modified, let's substantiate it by printing.\n",
    "\n",
    "print(l)\n",
    "print(m)"
   ]
  },
  {
   "cell_type": "markdown",
   "metadata": {},
   "source": [
    "######    "
   ]
  },
  {
   "cell_type": "code",
   "execution_count": 66,
   "metadata": {},
   "outputs": [
    {
     "data": {
      "text/plain": [
       "3"
      ]
     },
     "execution_count": 66,
     "metadata": {},
     "output_type": "execute_result"
    }
   ],
   "source": [
    "l = [1,2,3]\n",
    "l.pop()\n",
    "# pop the last item by default."
   ]
  },
  {
   "cell_type": "code",
   "execution_count": 69,
   "metadata": {},
   "outputs": [
    {
     "name": "stdout",
     "output_type": "stream",
     "text": [
      "2\n",
      "[1, 3]\n"
     ]
    }
   ],
   "source": [
    "# A index location can also be given.\n",
    "l = [1,2,3]\n",
    "x = l.pop(1)\n",
    "\n",
    "print(x)\n",
    "print(l)"
   ]
  },
  {
   "cell_type": "markdown",
   "metadata": {},
   "source": [
    "######    "
   ]
  },
  {
   "cell_type": "code",
   "execution_count": 79,
   "metadata": {},
   "outputs": [
    {
     "name": "stdout",
     "output_type": "stream",
     "text": [
      "lists before removal:\tl=[1, 2, 3, 4, 3]\tm=[1, 2, 'to be removed']\n",
      "\n",
      "lists after removal:\tl=[1, 2, 4, 3]\t\tm=[1, 2]\n"
     ]
    }
   ],
   "source": [
    "# Remove method takes an argument, the item itself, and removes the first occurance of it.\n",
    "\n",
    "l = [1,2,3,4,3]\n",
    "m = [1,2,'to be removed']\n",
    "print(f\"lists before removal:\\tl={l}\\tm={m}\\n\")\n",
    "      \n",
    "l.remove(3)\n",
    "m.remove('to be removed')\n",
    "\n",
    "print(f\"lists after removal:\\tl={l}\\t\\tm={m}\")\n",
    "# permanent change to the list."
   ]
  },
  {
   "cell_type": "markdown",
   "metadata": {},
   "source": [
    "######    "
   ]
  },
  {
   "cell_type": "code",
   "execution_count": 81,
   "metadata": {},
   "outputs": [
    {
     "name": "stdout",
     "output_type": "stream",
     "text": [
      "list is ['first', 2, 3, 4, 'last']\n",
      "reversed list is ['last', 4, 3, 2, 'first']\n"
     ]
    }
   ],
   "source": [
    "# reverse method is to reverse the list.\n",
    "# the effects on the list are permanent.\n",
    "\n",
    "l = ['first',2,3,4,'last']\n",
    "print(f\"list is {l}\")\n",
    "\n",
    "l.reverse()\n",
    "print(f\"reversed list is {l}\")"
   ]
  },
  {
   "cell_type": "markdown",
   "metadata": {},
   "source": [
    "######    "
   ]
  },
  {
   "cell_type": "code",
   "execution_count": 91,
   "metadata": {},
   "outputs": [
    {
     "name": "stdout",
     "output_type": "stream",
     "text": [
      "list is ['first', 'zest', 'last']\n",
      "sorted list is ['first', 'last', 'zest']\n"
     ]
    }
   ],
   "source": [
    "# sort list is just to sort the items in the list.\n",
    "# the effects on the list are permanent.\n",
    "# combination of strings and integers are not supported.\n",
    "\n",
    "l = ['first','zest','last']\n",
    "print(f\"list is {l}\")\n",
    "\n",
    "l.sort()\n",
    "print(f\"sorted list is {l}\")"
   ]
  },
  {
   "cell_type": "code",
   "execution_count": 92,
   "metadata": {},
   "outputs": [
    {
     "name": "stdout",
     "output_type": "stream",
     "text": [
      "list is [1, 2, 5, 3, 6, 7, 63, 5]\n",
      "sorted list is [1, 2, 3, 5, 5, 6, 7, 63]\n"
     ]
    }
   ],
   "source": [
    "l = [1,2,5,3,6,7,63,5]\n",
    "print(f\"list is {l}\")\n",
    "\n",
    "l.sort()\n",
    "print(f\"sorted list is {l}\")"
   ]
  },
  {
   "cell_type": "markdown",
   "metadata": {},
   "source": [
    "######    "
   ]
  },
  {
   "cell_type": "code",
   "execution_count": null,
   "metadata": {},
   "outputs": [],
   "source": []
  }
 ],
 "metadata": {
  "kernelspec": {
   "display_name": "Python 3",
   "language": "python",
   "name": "python3"
  },
  "language_info": {
   "codemirror_mode": {
    "name": "ipython",
    "version": 3
   },
   "file_extension": ".py",
   "mimetype": "text/x-python",
   "name": "python",
   "nbconvert_exporter": "python",
   "pygments_lexer": "ipython3",
   "version": "3.7.1"
  }
 },
 "nbformat": 4,
 "nbformat_minor": 2
}
