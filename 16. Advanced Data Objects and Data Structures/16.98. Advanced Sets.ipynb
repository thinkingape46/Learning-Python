{
 "cells": [
  {
   "cell_type": "markdown",
   "metadata": {},
   "source": [
    "### Advanced Sets\n",
    "###### Various methods in sets"
   ]
  },
  {
   "cell_type": "code",
   "execution_count": 17,
   "metadata": {},
   "outputs": [],
   "source": [
    "s = set()"
   ]
  },
  {
   "cell_type": "code",
   "execution_count": 18,
   "metadata": {},
   "outputs": [],
   "source": [
    "s.add(1)"
   ]
  },
  {
   "cell_type": "code",
   "execution_count": 19,
   "metadata": {},
   "outputs": [],
   "source": [
    "s.add(2)"
   ]
  },
  {
   "cell_type": "code",
   "execution_count": 20,
   "metadata": {},
   "outputs": [],
   "source": [
    "# set won't take duplicates\n",
    "s.add(2)"
   ]
  },
  {
   "cell_type": "code",
   "execution_count": 21,
   "metadata": {},
   "outputs": [
    {
     "data": {
      "text/plain": [
       "set"
      ]
     },
     "execution_count": 21,
     "metadata": {},
     "output_type": "execute_result"
    }
   ],
   "source": [
    "type(s)"
   ]
  },
  {
   "cell_type": "code",
   "execution_count": 22,
   "metadata": {},
   "outputs": [
    {
     "data": {
      "text/plain": [
       "{1, 2}"
      ]
     },
     "execution_count": 22,
     "metadata": {},
     "output_type": "execute_result"
    }
   ],
   "source": [
    "s"
   ]
  },
  {
   "cell_type": "markdown",
   "metadata": {},
   "source": [
    "######   "
   ]
  },
  {
   "cell_type": "code",
   "execution_count": 23,
   "metadata": {},
   "outputs": [],
   "source": [
    "# clearing a set\n",
    "s.clear()"
   ]
  },
  {
   "cell_type": "code",
   "execution_count": 24,
   "metadata": {},
   "outputs": [
    {
     "data": {
      "text/plain": [
       "set()"
      ]
     },
     "execution_count": 24,
     "metadata": {},
     "output_type": "execute_result"
    }
   ],
   "source": [
    "s"
   ]
  },
  {
   "cell_type": "code",
   "execution_count": 25,
   "metadata": {},
   "outputs": [],
   "source": [
    "s = {1,2,4}"
   ]
  },
  {
   "cell_type": "markdown",
   "metadata": {},
   "source": [
    "######   "
   ]
  },
  {
   "cell_type": "code",
   "execution_count": 28,
   "metadata": {},
   "outputs": [],
   "source": [
    "# creating a copy of s\n",
    "copyofs = s.copy()"
   ]
  },
  {
   "cell_type": "code",
   "execution_count": 29,
   "metadata": {},
   "outputs": [
    {
     "data": {
      "text/plain": [
       "{1, 2, 4}"
      ]
     },
     "execution_count": 29,
     "metadata": {},
     "output_type": "execute_result"
    }
   ],
   "source": [
    "copyofs"
   ]
  },
  {
   "cell_type": "code",
   "execution_count": 32,
   "metadata": {},
   "outputs": [],
   "source": [
    "# the set \"copyofs\" is independent of the original set 's'.\n",
    "# If we add additional items to new set, the original set won't be changed.\n",
    "copyofs.add(3)"
   ]
  },
  {
   "cell_type": "code",
   "execution_count": 34,
   "metadata": {},
   "outputs": [
    {
     "name": "stdout",
     "output_type": "stream",
     "text": [
      "{1, 2, 4}\n",
      "{1, 2, 3, 4}\n"
     ]
    }
   ],
   "source": [
    "# lets print both the sets 's' and 'copyofs'\n",
    "print(s)\n",
    "print(copyofs)"
   ]
  },
  {
   "cell_type": "markdown",
   "metadata": {},
   "source": [
    "######   "
   ]
  },
  {
   "cell_type": "code",
   "execution_count": 35,
   "metadata": {},
   "outputs": [],
   "source": [
    "# changes to the original set 's' will not effect the new set 'copyofs'\n",
    "s.add(6)"
   ]
  },
  {
   "cell_type": "code",
   "execution_count": 45,
   "metadata": {},
   "outputs": [
    {
     "name": "stdout",
     "output_type": "stream",
     "text": [
      "set s:\t\t {1, 2, 4, 6}\n",
      "set copyofs:\t {1, 2, 3, 4}\n"
     ]
    }
   ],
   "source": [
    "# lets print both the sets.\n",
    "print(f\"set s:\\t\\t {s}\")\n",
    "print(f\"set copyofs:\\t {copyofs}\")"
   ]
  },
  {
   "cell_type": "markdown",
   "metadata": {},
   "source": [
    "####   "
   ]
  },
  {
   "cell_type": "code",
   "execution_count": 41,
   "metadata": {},
   "outputs": [
    {
     "name": "stdout",
     "output_type": "stream",
     "text": [
      "{6}\n",
      "{3}\n"
     ]
    }
   ],
   "source": [
    "# prints items that are present in the set and abscent in the other.\n",
    "# no changes to either of the sets.\n",
    "print(s.difference(copyofs))\n",
    "print(copyofs.difference(s))"
   ]
  },
  {
   "cell_type": "code",
   "execution_count": 42,
   "metadata": {},
   "outputs": [
    {
     "data": {
      "text/plain": [
       "{1, 2}"
      ]
     },
     "execution_count": 42,
     "metadata": {},
     "output_type": "execute_result"
    }
   ],
   "source": [
    "{1,2,3}.difference({3,4,5,6})"
   ]
  },
  {
   "cell_type": "markdown",
   "metadata": {},
   "source": [
    "####   "
   ]
  },
  {
   "cell_type": "code",
   "execution_count": 60,
   "metadata": {},
   "outputs": [],
   "source": [
    "a = {'uniq1', 'uniq2',1,2,3}\n",
    "b = {1,2,3, 'uniq3'}\n",
    "# retains the items that are unique to the set and removes the rest.\n",
    "# set will be permanently modified.\n",
    "b.difference_update(a)"
   ]
  },
  {
   "cell_type": "code",
   "execution_count": 66,
   "metadata": {},
   "outputs": [
    {
     "data": {
      "text/plain": [
       "{'uniq3'}"
      ]
     },
     "execution_count": 66,
     "metadata": {},
     "output_type": "execute_result"
    }
   ],
   "source": [
    "b"
   ]
  },
  {
   "cell_type": "markdown",
   "metadata": {},
   "source": [
    "###   "
   ]
  },
  {
   "cell_type": "code",
   "execution_count": 77,
   "metadata": {},
   "outputs": [
    {
     "data": {
      "text/plain": [
       "{1, 2}"
      ]
     },
     "execution_count": 77,
     "metadata": {},
     "output_type": "execute_result"
    }
   ],
   "source": [
    "# Discards an item from the set\n",
    "c = {1,2,3}\n",
    "c.discard(3)\n",
    "c"
   ]
  },
  {
   "cell_type": "code",
   "execution_count": 78,
   "metadata": {},
   "outputs": [
    {
     "data": {
      "text/plain": [
       "{1, 2, 3}"
      ]
     },
     "execution_count": 78,
     "metadata": {},
     "output_type": "execute_result"
    }
   ],
   "source": [
    "# if the item is not in the set, nothing happens.\n",
    "c = {1,2,3}\n",
    "c.discard(6)\n",
    "c"
   ]
  },
  {
   "cell_type": "markdown",
   "metadata": {},
   "source": [
    "######       "
   ]
  },
  {
   "cell_type": "code",
   "execution_count": 90,
   "metadata": {},
   "outputs": [
    {
     "data": {
      "text/plain": [
       "{3, 7}"
      ]
     },
     "execution_count": 90,
     "metadata": {},
     "output_type": "execute_result"
    }
   ],
   "source": [
    "# returns the intersection of the sets.\n",
    "a = {1,2,3,7}\n",
    "b = {3,4,5,7}\n",
    "c = {7,8,9,3}\n",
    "d = {9}\n",
    "a.intersection(b, c)"
   ]
  },
  {
   "cell_type": "code",
   "execution_count": 91,
   "metadata": {},
   "outputs": [
    {
     "data": {
      "text/plain": [
       "set()"
      ]
     },
     "execution_count": 91,
     "metadata": {},
     "output_type": "execute_result"
    }
   ],
   "source": [
    "# if there is no intersection, null set is printed.\n",
    "b.intersection(d)"
   ]
  },
  {
   "cell_type": "code",
   "execution_count": 95,
   "metadata": {},
   "outputs": [
    {
     "name": "stdout",
     "output_type": "stream",
     "text": [
      "{3, 7}\n"
     ]
    }
   ],
   "source": [
    "# \"intersection_update\", removes all the items and retains the intersecting\n",
    "# items\n",
    "a = {1,2,3,7}\n",
    "b = {3,4,5,7}\n",
    "c = {7,8,9,3}\n",
    "d = {9}\n",
    "a.intersection_update(b, c)\n",
    "print(a)\n",
    "# set 'a' will be equal to intersection of a, b, and c sets.\n",
    "# set 'a' will be permanently affected."
   ]
  },
  {
   "cell_type": "markdown",
   "metadata": {},
   "source": [
    "######   "
   ]
  },
  {
   "cell_type": "code",
   "execution_count": 104,
   "metadata": {},
   "outputs": [
    {
     "name": "stdout",
     "output_type": "stream",
     "text": [
      "True\n",
      "False\n"
     ]
    }
   ],
   "source": [
    "# isdisjoint()\n",
    "# This method is like a opposite of intersection method, but outputs boolean\n",
    "# returns True if no items shares the sets.\n",
    "a = {1,2,3,7}\n",
    "b = {3,4,5,7}\n",
    "c = {7,8,9,3}\n",
    "d = {9}\n",
    "\n",
    "print(a.isdisjoint(d))\n",
    "print(a.isdisjoint(b))"
   ]
  },
  {
   "cell_type": "markdown",
   "metadata": {},
   "source": [
    "######   "
   ]
  },
  {
   "cell_type": "code",
   "execution_count": 105,
   "metadata": {},
   "outputs": [
    {
     "name": "stdout",
     "output_type": "stream",
     "text": [
      "True\n",
      "False\n"
     ]
    }
   ],
   "source": [
    "# issubset() method\n",
    "# issubset() method returns True of False when a set is subset of the other.\n",
    "\n",
    "a = {1,2,3,7}\n",
    "b = {3,4,5,7}\n",
    "c = {7,8,9,3}\n",
    "d = {9}\n",
    "\n",
    "x = d.issubset(c)\n",
    "print(x)\n",
    "\n",
    "y = a.issubset(b)\n",
    "print(y)"
   ]
  },
  {
   "cell_type": "markdown",
   "metadata": {},
   "source": [
    "######   "
   ]
  },
  {
   "cell_type": "code",
   "execution_count": 106,
   "metadata": {},
   "outputs": [
    {
     "name": "stdout",
     "output_type": "stream",
     "text": [
      "False\n",
      "True\n"
     ]
    }
   ],
   "source": [
    "# issuperset() method\n",
    "# issuperset() method returns True of False when a set is superset of the other.\n",
    "\n",
    "a = {1,2,3,7}\n",
    "b = {3,4,5,7}\n",
    "c = {7,8,9,3}\n",
    "d = {9}\n",
    "\n",
    "x = d.issuperset(c)\n",
    "print(x)\n",
    "\n",
    "y = c.issuperset(d)\n",
    "print(y)"
   ]
  },
  {
   "cell_type": "markdown",
   "metadata": {},
   "source": [
    "######   "
   ]
  },
  {
   "cell_type": "code",
   "execution_count": 112,
   "metadata": {},
   "outputs": [
    {
     "name": "stdout",
     "output_type": "stream",
     "text": [
      "{1, 2, 4, 5}\n",
      "set()\n",
      "set()\n"
     ]
    }
   ],
   "source": [
    "# symmetric_difference() method\n",
    "# this is oppposite of intersection() method, returns what is left outside of intersection in all the sets.\n",
    "# the sets are not affected.\n",
    "\n",
    "a = {1,2,3,7}\n",
    "b = {3,4,5,7}\n",
    "c = {7,8,9,3}\n",
    "d = {9}\n",
    "e = {1,2,3,7}\n",
    "\n",
    "x = a.symmetric_difference(b)\n",
    "print(x)\n",
    "\n",
    "z = a.symmetric_difference(a)\n",
    "print(z)\n",
    "\n",
    "y = a.symmetric_difference(e)\n",
    "print(y)"
   ]
  },
  {
   "cell_type": "markdown",
   "metadata": {},
   "source": [
    "######   "
   ]
  },
  {
   "cell_type": "code",
   "execution_count": 114,
   "metadata": {},
   "outputs": [
    {
     "name": "stdout",
     "output_type": "stream",
     "text": [
      "{1, 2, 4, 5}\n",
      "{4, 5, 8, 9}\n"
     ]
    }
   ],
   "source": [
    "# symmetric_difference() method\n",
    "# this is oppposite of intersection() method, returns what is left outside of intersection in all the sets.\n",
    "# the sets are not affected.\n",
    "\n",
    "a = {1,2,3,7}\n",
    "b = {3,4,5,7}\n",
    "c = {7,8,9,3}\n",
    "d = {9}\n",
    "e = {1,2,3,7}\n",
    "\n",
    "a.symmetric_difference_update(b)\n",
    "print(a)\n",
    "\n",
    "b.symmetric_difference_update(c)\n",
    "print(b)"
   ]
  },
  {
   "cell_type": "markdown",
   "metadata": {},
   "source": [
    "######   "
   ]
  },
  {
   "cell_type": "code",
   "execution_count": 121,
   "metadata": {},
   "outputs": [
    {
     "name": "stdout",
     "output_type": "stream",
     "text": [
      "{1, 2, 3, 4, 5, 7}\n",
      "{3, 7, 8, 9}\n"
     ]
    }
   ],
   "source": [
    "# union() method\n",
    "# returns the unions of the sets.\n",
    "# no change to the sets\n",
    "\n",
    "a = {1,2,3,7}\n",
    "b = {3,4,5,7}\n",
    "c = {7,8,9,3}\n",
    "d = {9}\n",
    "e = {1,2,3,7}\n",
    "\n",
    "print(a.union(b))\n",
    "\n",
    "print(c.union(d))"
   ]
  },
  {
   "cell_type": "markdown",
   "metadata": {},
   "source": [
    "#####   "
   ]
  },
  {
   "cell_type": "code",
   "execution_count": 125,
   "metadata": {},
   "outputs": [
    {
     "name": "stdout",
     "output_type": "stream",
     "text": [
      "{1, 2, 3, 4, 5, 7}\n",
      "{3, 7, 8, 9}\n"
     ]
    }
   ],
   "source": [
    "# update() method\n",
    "# updates the set with the unions of the sets.\n",
    "# pemanent change to the sets\n",
    "\n",
    "a = {1,2,3,7}\n",
    "b = {3,4,5,7}\n",
    "c = {7,8,9,3}\n",
    "d = {9}\n",
    "e = {1,2,3,7}\n",
    "\n",
    "a.update(b)\n",
    "print(a)\n",
    "\n",
    "c.update(d)\n",
    "print(c)"
   ]
  },
  {
   "cell_type": "code",
   "execution_count": null,
   "metadata": {},
   "outputs": [],
   "source": []
  }
 ],
 "metadata": {
  "kernelspec": {
   "display_name": "Python 3",
   "language": "python",
   "name": "python3"
  },
  "language_info": {
   "codemirror_mode": {
    "name": "ipython",
    "version": 3
   },
   "file_extension": ".py",
   "mimetype": "text/x-python",
   "name": "python",
   "nbconvert_exporter": "python",
   "pygments_lexer": "ipython3",
   "version": "3.7.1"
  }
 },
 "nbformat": 4,
 "nbformat_minor": 2
}
