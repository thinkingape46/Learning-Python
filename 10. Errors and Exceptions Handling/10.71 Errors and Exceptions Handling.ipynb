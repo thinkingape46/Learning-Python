{
 "cells": [
  {
   "cell_type": "markdown",
   "metadata": {},
   "source": [
    "# In cases of errors, let the program continue executing the script and report the error."
   ]
  },
  {
   "cell_type": "markdown",
   "metadata": {},
   "source": [
    "### try: \n",
    "#### Block of the code to be executed.\n",
    "### except: \n",
    "#### Block of the code that will be executed when there is an error in try\n",
    "### finally: \n",
    "#### Final block of the code that will be executed regardless of the error."
   ]
  },
  {
   "cell_type": "markdown",
   "metadata": {},
   "source": [
    "#  "
   ]
  },
  {
   "cell_type": "markdown",
   "metadata": {},
   "source": [
    "#### Simple function to play with errors"
   ]
  },
  {
   "cell_type": "code",
   "execution_count": 9,
   "metadata": {},
   "outputs": [
    {
     "name": "stdout",
     "output_type": "stream",
     "text": [
      "please enter a number in the range of 1 to 912\n",
      "error! please enter a number in the range of 1 to 9\n",
      "please enter a number in the range of 1 to 93\n",
      "You have entered the number 3.\n"
     ]
    }
   ],
   "source": [
    "def enter_1to9():\n",
    "    number = input(\"please enter a number in the range of 1 to 9\")\n",
    "    if int(number) in (range(1,10)):\n",
    "        print(f\"You have entered the number {number}.\")\n",
    "    else:\n",
    "        print(\"error! please enter a number in the range of 1 to 9\")\n",
    "        enter_1to9()\n",
    "enter_1to9()"
   ]
  },
  {
   "cell_type": "code",
   "execution_count": 8,
   "metadata": {},
   "outputs": [
    {
     "name": "stdout",
     "output_type": "stream",
     "text": [
      "please enter a number in the range of 1 to 9456\n",
      "You have entered the number 456.\n"
     ]
    }
   ],
   "source": [
    "def enter_1to9():\n",
    "    number = input(\"please enter a number in the range of 1 to 9\")\n",
    "    try:\n",
    "        int(number) in (range(1,10))\n",
    "        print(f\"You have entered the number {number}.\")\n",
    "    except:\n",
    "        print(\"error! please enter a number in the range of 1 to 9\")\n",
    "enter_1to9()"
   ]
  },
  {
   "cell_type": "code",
   "execution_count": 6,
   "metadata": {},
   "outputs": [
    {
     "name": "stdout",
     "output_type": "stream",
     "text": [
      "enter the first number121\n",
      "enter the second number323\n",
      "The sum is 444.\n",
      "The operation went well!\n"
     ]
    }
   ],
   "source": [
    "def sum():\n",
    "    a = input(\"enter the first number\")\n",
    "    b = input(\"enter the second number\")\n",
    "    try:\n",
    "        sum1 = int(a) + int(b)\n",
    "        print(f\"The sum is {sum1}.\")\n",
    "    except:\n",
    "        print(\"Hey! something happened, enter only integers.\")\n",
    "    else:\n",
    "        print(\"The operation went well!\")\n",
    "sum()"
   ]
  },
  {
   "cell_type": "markdown",
   "metadata": {},
   "source": [
    "#### Use of \"finally\""
   ]
  },
  {
   "cell_type": "code",
   "execution_count": 33,
   "metadata": {},
   "outputs": [
    {
     "name": "stdout",
     "output_type": "stream",
     "text": [
      "enter the first numbera\n",
      "enter the second number2\n",
      "\n",
      "There was a ValueError!\n",
      "\n",
      "\n",
      "I will show up whatever!\n"
     ]
    }
   ],
   "source": [
    "def sum():\n",
    "    a = input(\"enter the first number\")\n",
    "    b = input(\"enter the second number\")\n",
    "    try:\n",
    "        sum1 = int(a) + int(b)\n",
    "        print(f\"The sum is {sum1}.\")\n",
    "    except TypeError:\n",
    "        print(\"There was a TypeError!\")\n",
    "    except ValueError:\n",
    "        print(\"\\nThere was a ValueError!\")        \n",
    "    except:\n",
    "        print(\"Hey! something unexpected happened, did you enter only the integers.\")\n",
    "    else:\n",
    "        print(\"The operation went well!\")\n",
    "    finally:\n",
    "        print(\"\\n\\nI will show up whatever!\")\n",
    "sum()"
   ]
  },
  {
   "cell_type": "code",
   "execution_count": 40,
   "metadata": {},
   "outputs": [
    {
     "name": "stdout",
     "output_type": "stream",
     "text": [
      "\n",
      "\n",
      "I will show up whatever!\n"
     ]
    }
   ],
   "source": [
    "try:\n",
    "    f = open('test_write.txt', 'w')\n",
    "    f.write = (\"Hello!\")\n",
    "except OSError:\n",
    "    print(\"\\nThere was an OSError!\")\n",
    "except:\n",
    "    print(\"Hey! something unexpected happened.\")\n",
    "finally:\n",
    "    print(\"\\n\\nI will show up whatever!\")"
   ]
  },
  {
   "cell_type": "markdown",
   "metadata": {},
   "source": [
    "#  "
   ]
  },
  {
   "cell_type": "markdown",
   "metadata": {},
   "source": [
    "### Enter a number!"
   ]
  },
  {
   "cell_type": "code",
   "execution_count": 1,
   "metadata": {},
   "outputs": [
    {
     "name": "stdout",
     "output_type": "stream",
     "text": [
      "enter a number:d\n",
      "\n",
      "Oops! please enter a number\n",
      "\n",
      "I will show up whatever!\n",
      "enter a number:k\n",
      "\n",
      "Oops! please enter a number\n",
      "\n",
      "I will show up whatever!\n",
      "enter a number:j\n",
      "\n",
      "Oops! please enter a number\n",
      "\n",
      "I will show up whatever!\n",
      "enter a number:g\n",
      "\n",
      "Oops! please enter a number\n",
      "\n",
      "I will show up whatever!\n",
      "enter a number:4\n",
      "\n",
      "You have enter 4.\n",
      "\n",
      "I will show up whatever!\n"
     ]
    }
   ],
   "source": [
    "def enter_number():\n",
    "    while True:\n",
    "        try:\n",
    "            n = int(input(\"enter a number:\"))\n",
    "            print(f\"\\nYou have enter {n}.\")\n",
    "        except:\n",
    "            print(\"\\nOops! please enter a number\")\n",
    "            continue\n",
    "        else:\n",
    "            break\n",
    "        finally:\n",
    "            print(\"\\nI will show up whatever!\")\n",
    "enter_number()"
   ]
  },
  {
   "cell_type": "code",
   "execution_count": null,
   "metadata": {},
   "outputs": [],
   "source": []
  }
 ],
 "metadata": {
  "kernelspec": {
   "display_name": "Python 3",
   "language": "python",
   "name": "python3"
  },
  "language_info": {
   "codemirror_mode": {
    "name": "ipython",
    "version": 3
   },
   "file_extension": ".py",
   "mimetype": "text/x-python",
   "name": "python",
   "nbconvert_exporter": "python",
   "pygments_lexer": "ipython3",
   "version": "3.7.1"
  }
 },
 "nbformat": 4,
 "nbformat_minor": 2
}
