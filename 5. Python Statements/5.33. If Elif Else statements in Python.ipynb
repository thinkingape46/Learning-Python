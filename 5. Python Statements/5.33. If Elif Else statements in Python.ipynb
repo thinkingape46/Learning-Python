{
 "cells": [
  {
   "cell_type": "code",
   "execution_count": 11,
   "metadata": {},
   "outputs": [
    {
     "name": "stdout",
     "output_type": "stream",
     "text": [
      "It is true, 5 is greater than 3\n"
     ]
    }
   ],
   "source": [
    "if 5>3:\n",
    "    print('It is true, 5 is greater than 3')\n",
    "else: print('False')"
   ]
  },
  {
   "cell_type": "code",
   "execution_count": 12,
   "metadata": {},
   "outputs": [
    {
     "name": "stdout",
     "output_type": "stream",
     "text": [
      "False\n"
     ]
    }
   ],
   "source": [
    "if 5<3:\n",
    "    print('True')\n",
    "else: print('False')"
   ]
  },
  {
   "cell_type": "code",
   "execution_count": 17,
   "metadata": {},
   "outputs": [
    {
     "name": "stdout",
     "output_type": "stream",
     "text": [
      "Don't stop at the fuel point\n"
     ]
    }
   ],
   "source": [
    "Fueltank_full = True\n",
    "if Fueltank_full:\n",
    "    print(\"Don't stop at the fuel point\")\n",
    "else:\n",
    "    print(\"Stop at the fuel point!\")"
   ]
  },
  {
   "cell_type": "code",
   "execution_count": 18,
   "metadata": {},
   "outputs": [
    {
     "name": "stdout",
     "output_type": "stream",
     "text": [
      "Stop at the fuel point!\n"
     ]
    }
   ],
   "source": [
    "Fueltank_full = False\n",
    "if Fueltank_full:\n",
    "    print(\"Don't stop at the fuel point\")\n",
    "else:\n",
    "    print(\"Stop at the fuel point!\")"
   ]
  },
  {
   "cell_type": "code",
   "execution_count": 25,
   "metadata": {},
   "outputs": [
    {
     "name": "stdout",
     "output_type": "stream",
     "text": [
      "Cool\n"
     ]
    }
   ],
   "source": [
    "Location = 'Bangalore'\n",
    "if Location == 'Chennai':\n",
    "    print(\"Humid\")\n",
    "elif Location == 'Bangalore':\n",
    "    print(\"Cool\")\n",
    "elif Location == 'Bordeaux':\n",
    "    print(\"Cold\")\n",
    "elif Location == 'Fairbanks':\n",
    "    print('Freezing')\n",
    "else:\n",
    "    print('Sorry! No information')"
   ]
  },
  {
   "cell_type": "code",
   "execution_count": null,
   "metadata": {},
   "outputs": [],
   "source": []
  }
 ],
 "metadata": {
  "kernelspec": {
   "display_name": "Python 3",
   "language": "python",
   "name": "python3"
  },
  "language_info": {
   "codemirror_mode": {
    "name": "ipython",
    "version": 3
   },
   "file_extension": ".py",
   "mimetype": "text/x-python",
   "name": "python",
   "nbconvert_exporter": "python",
   "pygments_lexer": "ipython3",
   "version": "3.7.1"
  }
 },
 "nbformat": 4,
 "nbformat_minor": 2
}
