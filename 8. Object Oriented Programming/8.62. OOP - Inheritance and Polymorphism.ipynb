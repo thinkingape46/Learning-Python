{
 "cells": [
  {
   "cell_type": "markdown",
   "metadata": {},
   "source": [
    "# Inheritance and Polymorphism"
   ]
  },
  {
   "cell_type": "markdown",
   "metadata": {},
   "source": [
    "## 1. Inheritance is a way of creating new classes using the classes already defined.\n",
    "## 2. The code of previously defined class can be re-used. \n",
    "## 3. Reduce the complexity of the program."
   ]
  },
  {
   "cell_type": "markdown",
   "metadata": {},
   "source": [
    "# 1. Inheritance\n",
    "### Creating first class here."
   ]
  },
  {
   "cell_type": "code",
   "execution_count": 133,
   "metadata": {},
   "outputs": [],
   "source": [
    "class Chimpanzee():\n",
    "    order = \"Primate\"\n",
    "    kingdom = \"Animalia\"\n",
    "    def __init__(self):\n",
    "        print('Class for a primate is created')\n",
    "    def say_location(self):\n",
    "        print('I am found on Earth')\n",
    "    def who_am_I(self):\n",
    "        print(\"I am a primate\")"
   ]
  },
  {
   "cell_type": "code",
   "execution_count": 119,
   "metadata": {},
   "outputs": [
    {
     "name": "stdout",
     "output_type": "stream",
     "text": [
      "Class for a primate is created\n"
     ]
    }
   ],
   "source": [
    "harry = Chimpanzee()"
   ]
  },
  {
   "cell_type": "code",
   "execution_count": 120,
   "metadata": {},
   "outputs": [
    {
     "data": {
      "text/plain": [
       "__main__.Chimpanzee"
      ]
     },
     "execution_count": 120,
     "metadata": {},
     "output_type": "execute_result"
    }
   ],
   "source": [
    "type(harry)"
   ]
  },
  {
   "cell_type": "code",
   "execution_count": 121,
   "metadata": {},
   "outputs": [
    {
     "name": "stdout",
     "output_type": "stream",
     "text": [
      "I am found on Earth\n"
     ]
    }
   ],
   "source": [
    "harry.say_location()"
   ]
  },
  {
   "cell_type": "code",
   "execution_count": 122,
   "metadata": {},
   "outputs": [
    {
     "name": "stdout",
     "output_type": "stream",
     "text": [
      "I am found on Earth\n"
     ]
    }
   ],
   "source": [
    "harry.say_location()"
   ]
  },
  {
   "cell_type": "code",
   "execution_count": 134,
   "metadata": {},
   "outputs": [
    {
     "name": "stdout",
     "output_type": "stream",
     "text": [
      "I am a primate\n"
     ]
    }
   ],
   "source": [
    "harry.who_am_I()"
   ]
  },
  {
   "cell_type": "markdown",
   "metadata": {},
   "source": [
    "### Lets create a new class and inherit some data from previously created one.\n",
    "### Also called a derived class."
   ]
  },
  {
   "cell_type": "code",
   "execution_count": 161,
   "metadata": {},
   "outputs": [],
   "source": [
    "class Orangutan(Chimpanzee):\n",
    "    def __init__(self):\n",
    "        Chimpanzee.__init__(self)\n",
    "        print('Class for Orangutan is created')        "
   ]
  },
  {
   "cell_type": "code",
   "execution_count": 162,
   "metadata": {},
   "outputs": [
    {
     "name": "stdout",
     "output_type": "stream",
     "text": [
      "Class for a primate is created\n",
      "Class for Orangutan is created\n"
     ]
    }
   ],
   "source": [
    "Brad = Orangutan()"
   ]
  },
  {
   "cell_type": "code",
   "execution_count": 163,
   "metadata": {},
   "outputs": [
    {
     "name": "stdout",
     "output_type": "stream",
     "text": [
      "I am found on Earth\n"
     ]
    }
   ],
   "source": [
    "Brad.say_location()"
   ]
  },
  {
   "cell_type": "code",
   "execution_count": 164,
   "metadata": {},
   "outputs": [
    {
     "name": "stdout",
     "output_type": "stream",
     "text": [
      "I am a primate\n"
     ]
    }
   ],
   "source": [
    "Brad.who_am_I()"
   ]
  },
  {
   "cell_type": "code",
   "execution_count": 167,
   "metadata": {},
   "outputs": [],
   "source": [
    "class Orangutan(Chimpanzee):\n",
    "    def __init__(self):\n",
    "        Chimpanzee.__init__(self)\n",
    "        print('Class for Orangutan is created')\n",
    "    # To overwrite previous methods (\"Who am I\")\n",
    "    def who_am_I(self):\n",
    "        print(\"I am an Orangutan\")"
   ]
  },
  {
   "cell_type": "code",
   "execution_count": 168,
   "metadata": {},
   "outputs": [
    {
     "name": "stdout",
     "output_type": "stream",
     "text": [
      "Class for a primate is created\n",
      "Class for Orangutan is created\n"
     ]
    }
   ],
   "source": [
    "Brad = Orangutan()"
   ]
  },
  {
   "cell_type": "code",
   "execution_count": 169,
   "metadata": {},
   "outputs": [
    {
     "name": "stdout",
     "output_type": "stream",
     "text": [
      "I am an Orangutan\n"
     ]
    }
   ],
   "source": [
    "Brad.who_am_I()"
   ]
  },
  {
   "cell_type": "code",
   "execution_count": null,
   "metadata": {},
   "outputs": [],
   "source": []
  },
  {
   "cell_type": "markdown",
   "metadata": {},
   "source": [
    "# 2. Polymorphism"
   ]
  },
  {
   "cell_type": "code",
   "execution_count": null,
   "metadata": {},
   "outputs": [],
   "source": []
  }
 ],
 "metadata": {
  "kernelspec": {
   "display_name": "Python 3",
   "language": "python",
   "name": "python3"
  },
  "language_info": {
   "codemirror_mode": {
    "name": "ipython",
    "version": 3
   },
   "file_extension": ".py",
   "mimetype": "text/x-python",
   "name": "python",
   "nbconvert_exporter": "python",
   "pygments_lexer": "ipython3",
   "version": "3.7.1"
  }
 },
 "nbformat": 4,
 "nbformat_minor": 2
}
